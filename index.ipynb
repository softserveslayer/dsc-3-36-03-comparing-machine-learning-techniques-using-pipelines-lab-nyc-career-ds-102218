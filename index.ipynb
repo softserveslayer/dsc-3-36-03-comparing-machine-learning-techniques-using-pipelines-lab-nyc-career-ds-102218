{
 "cells": [
  {
   "cell_type": "markdown",
   "metadata": {},
   "source": [
    "# Comparing Machine Learning Techniques using Pipelines - Lab"
   ]
  },
  {
   "cell_type": "markdown",
   "metadata": {},
   "source": [
    "## Introduction"
   ]
  },
  {
   "cell_type": "markdown",
   "metadata": {},
   "source": [
    "In this lab, you'lll use a Dataset created by Otto group, which was also used in a [Kaggle competition](https://www.kaggle.com/c/otto-group-product-classification-challenge/data).\n",
    "\n",
    "The description of the data set is as follows:\n",
    "\n",
    "The Otto Group is one of the world’s biggest e-commerce companies, with subsidiaries in more than 20 countries, including Crate & Barrel (USA), Otto.de (Germany) and 3 Suisses (France). They are selling millions of products worldwide every day, with several thousand products being added to our product line.\n",
    "\n",
    "A consistent analysis of the performance of our products is crucial. However, due to their global infrastructure, many identical products get classified differently. Therefore, the quality of our product analysis depends heavily on the ability to accurately cluster similar products. The better the classification, the more insights Otto Group can generate about their product range.\n",
    "\n",
    "In this lab, you'll use a data set containing:\n",
    "- A column `id`, which is an anonymous id unique to a product\n",
    "- 93 columns `feat_1`, `feat_2`, ..., `feat_93`, which are the various features of a product\n",
    "- a column `target` - the class of a product\n"
   ]
  },
  {
   "cell_type": "markdown",
   "metadata": {},
   "source": [
    "## Objectives\n",
    "\n",
    "You will be able to:\n",
    "- Compare different classification techniques\n",
    "- Construct pipelines in scikit-learn\n",
    "- Use pipelines in combination with GridSearchCV"
   ]
  },
  {
   "cell_type": "markdown",
   "metadata": {},
   "source": [
    "## The Data Science Workflow"
   ]
  },
  {
   "cell_type": "markdown",
   "metadata": {},
   "source": [
    "You will be following the data science workflow:\n",
    "\n",
    "1. Initial data inspection, exploratory data analysis, and cleaning\n",
    "2. Feature engineering and selection\n",
    "3. create a baseline model\n",
    "4. create a machine learning pipeline and compare results with the baseline model\n",
    "5. Interpret the model and draw conclusions"
   ]
  },
  {
   "cell_type": "markdown",
   "metadata": {},
   "source": [
    "##  Initial data inspection, exploratory data analysis, and cleaning"
   ]
  },
  {
   "cell_type": "markdown",
   "metadata": {},
   "source": [
    "The data is stored in \"otto_group.csv\".\n",
    "\n",
    "Things to do here:\n",
    "- Check for NAs\n",
    "- Check the distributions\n",
    "- Check how many inputs there are\n",
    "- ..."
   ]
  },
  {
   "cell_type": "code",
   "execution_count": 1,
   "metadata": {},
   "outputs": [],
   "source": [
    "import pandas as pd\n",
    "df = pd.read_csv('otto_group.csv')"
   ]
  },
  {
   "cell_type": "code",
   "execution_count": 3,
   "metadata": {},
   "outputs": [
    {
     "data": {
      "text/html": [
       "<div>\n",
       "<style scoped>\n",
       "    .dataframe tbody tr th:only-of-type {\n",
       "        vertical-align: middle;\n",
       "    }\n",
       "\n",
       "    .dataframe tbody tr th {\n",
       "        vertical-align: top;\n",
       "    }\n",
       "\n",
       "    .dataframe thead th {\n",
       "        text-align: right;\n",
       "    }\n",
       "</style>\n",
       "<table border=\"1\" class=\"dataframe\">\n",
       "  <thead>\n",
       "    <tr style=\"text-align: right;\">\n",
       "      <th></th>\n",
       "      <th>id</th>\n",
       "      <th>feat_1</th>\n",
       "      <th>feat_2</th>\n",
       "      <th>feat_3</th>\n",
       "      <th>feat_4</th>\n",
       "      <th>feat_5</th>\n",
       "      <th>feat_6</th>\n",
       "      <th>feat_7</th>\n",
       "      <th>feat_8</th>\n",
       "      <th>feat_9</th>\n",
       "      <th>...</th>\n",
       "      <th>feat_85</th>\n",
       "      <th>feat_86</th>\n",
       "      <th>feat_87</th>\n",
       "      <th>feat_88</th>\n",
       "      <th>feat_89</th>\n",
       "      <th>feat_90</th>\n",
       "      <th>feat_91</th>\n",
       "      <th>feat_92</th>\n",
       "      <th>feat_93</th>\n",
       "      <th>target</th>\n",
       "    </tr>\n",
       "  </thead>\n",
       "  <tbody>\n",
       "    <tr>\n",
       "      <th>0</th>\n",
       "      <td>1</td>\n",
       "      <td>1</td>\n",
       "      <td>0</td>\n",
       "      <td>0</td>\n",
       "      <td>0</td>\n",
       "      <td>0</td>\n",
       "      <td>0</td>\n",
       "      <td>0</td>\n",
       "      <td>0</td>\n",
       "      <td>0</td>\n",
       "      <td>...</td>\n",
       "      <td>1</td>\n",
       "      <td>0</td>\n",
       "      <td>0</td>\n",
       "      <td>0</td>\n",
       "      <td>0</td>\n",
       "      <td>0</td>\n",
       "      <td>0</td>\n",
       "      <td>0</td>\n",
       "      <td>0</td>\n",
       "      <td>Class_1</td>\n",
       "    </tr>\n",
       "    <tr>\n",
       "      <th>1</th>\n",
       "      <td>2</td>\n",
       "      <td>0</td>\n",
       "      <td>0</td>\n",
       "      <td>0</td>\n",
       "      <td>0</td>\n",
       "      <td>0</td>\n",
       "      <td>0</td>\n",
       "      <td>0</td>\n",
       "      <td>1</td>\n",
       "      <td>0</td>\n",
       "      <td>...</td>\n",
       "      <td>0</td>\n",
       "      <td>0</td>\n",
       "      <td>0</td>\n",
       "      <td>0</td>\n",
       "      <td>0</td>\n",
       "      <td>0</td>\n",
       "      <td>0</td>\n",
       "      <td>0</td>\n",
       "      <td>0</td>\n",
       "      <td>Class_1</td>\n",
       "    </tr>\n",
       "    <tr>\n",
       "      <th>2</th>\n",
       "      <td>3</td>\n",
       "      <td>0</td>\n",
       "      <td>0</td>\n",
       "      <td>0</td>\n",
       "      <td>0</td>\n",
       "      <td>0</td>\n",
       "      <td>0</td>\n",
       "      <td>0</td>\n",
       "      <td>1</td>\n",
       "      <td>0</td>\n",
       "      <td>...</td>\n",
       "      <td>0</td>\n",
       "      <td>0</td>\n",
       "      <td>0</td>\n",
       "      <td>0</td>\n",
       "      <td>0</td>\n",
       "      <td>0</td>\n",
       "      <td>0</td>\n",
       "      <td>0</td>\n",
       "      <td>0</td>\n",
       "      <td>Class_1</td>\n",
       "    </tr>\n",
       "    <tr>\n",
       "      <th>3</th>\n",
       "      <td>4</td>\n",
       "      <td>1</td>\n",
       "      <td>0</td>\n",
       "      <td>0</td>\n",
       "      <td>1</td>\n",
       "      <td>6</td>\n",
       "      <td>1</td>\n",
       "      <td>5</td>\n",
       "      <td>0</td>\n",
       "      <td>0</td>\n",
       "      <td>...</td>\n",
       "      <td>0</td>\n",
       "      <td>1</td>\n",
       "      <td>2</td>\n",
       "      <td>0</td>\n",
       "      <td>0</td>\n",
       "      <td>0</td>\n",
       "      <td>0</td>\n",
       "      <td>0</td>\n",
       "      <td>0</td>\n",
       "      <td>Class_1</td>\n",
       "    </tr>\n",
       "    <tr>\n",
       "      <th>4</th>\n",
       "      <td>5</td>\n",
       "      <td>0</td>\n",
       "      <td>0</td>\n",
       "      <td>0</td>\n",
       "      <td>0</td>\n",
       "      <td>0</td>\n",
       "      <td>0</td>\n",
       "      <td>0</td>\n",
       "      <td>0</td>\n",
       "      <td>0</td>\n",
       "      <td>...</td>\n",
       "      <td>1</td>\n",
       "      <td>0</td>\n",
       "      <td>0</td>\n",
       "      <td>0</td>\n",
       "      <td>0</td>\n",
       "      <td>1</td>\n",
       "      <td>0</td>\n",
       "      <td>0</td>\n",
       "      <td>0</td>\n",
       "      <td>Class_1</td>\n",
       "    </tr>\n",
       "  </tbody>\n",
       "</table>\n",
       "<p>5 rows × 95 columns</p>\n",
       "</div>"
      ],
      "text/plain": [
       "   id  feat_1  feat_2  feat_3  feat_4  feat_5  feat_6  feat_7  feat_8  feat_9  \\\n",
       "0   1       1       0       0       0       0       0       0       0       0   \n",
       "1   2       0       0       0       0       0       0       0       1       0   \n",
       "2   3       0       0       0       0       0       0       0       1       0   \n",
       "3   4       1       0       0       1       6       1       5       0       0   \n",
       "4   5       0       0       0       0       0       0       0       0       0   \n",
       "\n",
       "    ...     feat_85  feat_86  feat_87  feat_88  feat_89  feat_90  feat_91  \\\n",
       "0   ...           1        0        0        0        0        0        0   \n",
       "1   ...           0        0        0        0        0        0        0   \n",
       "2   ...           0        0        0        0        0        0        0   \n",
       "3   ...           0        1        2        0        0        0        0   \n",
       "4   ...           1        0        0        0        0        1        0   \n",
       "\n",
       "   feat_92  feat_93   target  \n",
       "0        0        0  Class_1  \n",
       "1        0        0  Class_1  \n",
       "2        0        0  Class_1  \n",
       "3        0        0  Class_1  \n",
       "4        0        0  Class_1  \n",
       "\n",
       "[5 rows x 95 columns]"
      ]
     },
     "execution_count": 3,
     "metadata": {},
     "output_type": "execute_result"
    }
   ],
   "source": [
    "df.head()"
   ]
  },
  {
   "cell_type": "code",
   "execution_count": 5,
   "metadata": {},
   "outputs": [
    {
     "data": {
      "text/plain": [
       "array([[<matplotlib.axes._subplots.AxesSubplot object at 0x7f0bbb1bc6d8>,\n",
       "        <matplotlib.axes._subplots.AxesSubplot object at 0x7f0bbaed39b0>,\n",
       "        <matplotlib.axes._subplots.AxesSubplot object at 0x7f0bbaefadd8>,\n",
       "        <matplotlib.axes._subplots.AxesSubplot object at 0x7f0bbaeac4a8>,\n",
       "        <matplotlib.axes._subplots.AxesSubplot object at 0x7f0bbae54b38>,\n",
       "        <matplotlib.axes._subplots.AxesSubplot object at 0x7f0bbae54b70>,\n",
       "        <matplotlib.axes._subplots.AxesSubplot object at 0x7f0bbae2b898>,\n",
       "        <matplotlib.axes._subplots.AxesSubplot object at 0x7f0bbadd4f28>,\n",
       "        <matplotlib.axes._subplots.AxesSubplot object at 0x7f0bbae035f8>,\n",
       "        <matplotlib.axes._subplots.AxesSubplot object at 0x7f0bbadaac88>],\n",
       "       [<matplotlib.axes._subplots.AxesSubplot object at 0x7f0bbad5c358>,\n",
       "        <matplotlib.axes._subplots.AxesSubplot object at 0x7f0bbad829e8>,\n",
       "        <matplotlib.axes._subplots.AxesSubplot object at 0x7f0bbad330b8>,\n",
       "        <matplotlib.axes._subplots.AxesSubplot object at 0x7f0bbacdc748>,\n",
       "        <matplotlib.axes._subplots.AxesSubplot object at 0x7f0bbad01dd8>,\n",
       "        <matplotlib.axes._subplots.AxesSubplot object at 0x7f0bbacb74a8>,\n",
       "        <matplotlib.axes._subplots.AxesSubplot object at 0x7f0bbac5cb38>,\n",
       "        <matplotlib.axes._subplots.AxesSubplot object at 0x7f0bbac0f208>,\n",
       "        <matplotlib.axes._subplots.AxesSubplot object at 0x7f0bbac36898>,\n",
       "        <matplotlib.axes._subplots.AxesSubplot object at 0x7f0bbabdef28>],\n",
       "       [<matplotlib.axes._subplots.AxesSubplot object at 0x7f0bbab8e5f8>,\n",
       "        <matplotlib.axes._subplots.AxesSubplot object at 0x7f0bbabb7c88>,\n",
       "        <matplotlib.axes._subplots.AxesSubplot object at 0x7f0bbab66358>,\n",
       "        <matplotlib.axes._subplots.AxesSubplot object at 0x7f0bbab109e8>,\n",
       "        <matplotlib.axes._subplots.AxesSubplot object at 0x7f0bbab410b8>,\n",
       "        <matplotlib.axes._subplots.AxesSubplot object at 0x7f0bbaae7748>,\n",
       "        <matplotlib.axes._subplots.AxesSubplot object at 0x7f0bbaa90dd8>,\n",
       "        <matplotlib.axes._subplots.AxesSubplot object at 0x7f0bbaac04a8>,\n",
       "        <matplotlib.axes._subplots.AxesSubplot object at 0x7f0bbaa68b38>,\n",
       "        <matplotlib.axes._subplots.AxesSubplot object at 0x7f0bbaa1b208>],\n",
       "       [<matplotlib.axes._subplots.AxesSubplot object at 0x7f0bbaa42898>,\n",
       "        <matplotlib.axes._subplots.AxesSubplot object at 0x7f0bba9ebf28>,\n",
       "        <matplotlib.axes._subplots.AxesSubplot object at 0x7f0bba99c5f8>,\n",
       "        <matplotlib.axes._subplots.AxesSubplot object at 0x7f0bba9c1c88>,\n",
       "        <matplotlib.axes._subplots.AxesSubplot object at 0x7f0bba974358>,\n",
       "        <matplotlib.axes._subplots.AxesSubplot object at 0x7f0bba91a9e8>,\n",
       "        <matplotlib.axes._subplots.AxesSubplot object at 0x7f0bba8cc0b8>,\n",
       "        <matplotlib.axes._subplots.AxesSubplot object at 0x7f0bba8f2748>,\n",
       "        <matplotlib.axes._subplots.AxesSubplot object at 0x7f0bba899dd8>,\n",
       "        <matplotlib.axes._subplots.AxesSubplot object at 0x7f0bba84c4a8>],\n",
       "       [<matplotlib.axes._subplots.AxesSubplot object at 0x7f0bba873b38>,\n",
       "        <matplotlib.axes._subplots.AxesSubplot object at 0x7f0bba826208>,\n",
       "        <matplotlib.axes._subplots.AxesSubplot object at 0x7f0bba7ca898>,\n",
       "        <matplotlib.axes._subplots.AxesSubplot object at 0x7f0bba7f5f28>,\n",
       "        <matplotlib.axes._subplots.AxesSubplot object at 0x7f0bba7a65f8>,\n",
       "        <matplotlib.axes._subplots.AxesSubplot object at 0x7f0bba74dc88>,\n",
       "        <matplotlib.axes._subplots.AxesSubplot object at 0x7f0bba77c358>,\n",
       "        <matplotlib.axes._subplots.AxesSubplot object at 0x7f0bba7259e8>,\n",
       "        <matplotlib.axes._subplots.AxesSubplot object at 0x7f0bba6d60b8>,\n",
       "        <matplotlib.axes._subplots.AxesSubplot object at 0x7f0bba6fd748>],\n",
       "       [<matplotlib.axes._subplots.AxesSubplot object at 0x7f0bba6a6dd8>,\n",
       "        <matplotlib.axes._subplots.AxesSubplot object at 0x7f0bba6594a8>,\n",
       "        <matplotlib.axes._subplots.AxesSubplot object at 0x7f0bba67eb38>,\n",
       "        <matplotlib.axes._subplots.AxesSubplot object at 0x7f0bba62f208>,\n",
       "        <matplotlib.axes._subplots.AxesSubplot object at 0x7f0bba5d7898>,\n",
       "        <matplotlib.axes._subplots.AxesSubplot object at 0x7f0bba5fff28>,\n",
       "        <matplotlib.axes._subplots.AxesSubplot object at 0x7f0bba5b05f8>,\n",
       "        <matplotlib.axes._subplots.AxesSubplot object at 0x7f0bba55bc88>,\n",
       "        <matplotlib.axes._subplots.AxesSubplot object at 0x7f0bba50b358>,\n",
       "        <matplotlib.axes._subplots.AxesSubplot object at 0x7f0bba5309e8>],\n",
       "       [<matplotlib.axes._subplots.AxesSubplot object at 0x7f0bba4e10b8>,\n",
       "        <matplotlib.axes._subplots.AxesSubplot object at 0x7f0bba48a748>,\n",
       "        <matplotlib.axes._subplots.AxesSubplot object at 0x7f0bba4b1dd8>,\n",
       "        <matplotlib.axes._subplots.AxesSubplot object at 0x7f0bba4624a8>,\n",
       "        <matplotlib.axes._subplots.AxesSubplot object at 0x7f0bba40ab38>,\n",
       "        <matplotlib.axes._subplots.AxesSubplot object at 0x7f0bba43a208>,\n",
       "        <matplotlib.axes._subplots.AxesSubplot object at 0x7f0bba3e2898>,\n",
       "        <matplotlib.axes._subplots.AxesSubplot object at 0x7f0bba389f28>,\n",
       "        <matplotlib.axes._subplots.AxesSubplot object at 0x7f0bba3bc5f8>,\n",
       "        <matplotlib.axes._subplots.AxesSubplot object at 0x7f0bba363c88>],\n",
       "       [<matplotlib.axes._subplots.AxesSubplot object at 0x7f0bba314358>,\n",
       "        <matplotlib.axes._subplots.AxesSubplot object at 0x7f0bba33b9e8>,\n",
       "        <matplotlib.axes._subplots.AxesSubplot object at 0x7f0bba2ed0b8>,\n",
       "        <matplotlib.axes._subplots.AxesSubplot object at 0x7f0bba294748>,\n",
       "        <matplotlib.axes._subplots.AxesSubplot object at 0x7f0bba2bddd8>,\n",
       "        <matplotlib.axes._subplots.AxesSubplot object at 0x7f0bba2704a8>,\n",
       "        <matplotlib.axes._subplots.AxesSubplot object at 0x7f0bba215b38>,\n",
       "        <matplotlib.axes._subplots.AxesSubplot object at 0x7f0bba1c7208>,\n",
       "        <matplotlib.axes._subplots.AxesSubplot object at 0x7f0bba1ed898>,\n",
       "        <matplotlib.axes._subplots.AxesSubplot object at 0x7f0bba198f28>],\n",
       "       [<matplotlib.axes._subplots.AxesSubplot object at 0x7f0bba1475f8>,\n",
       "        <matplotlib.axes._subplots.AxesSubplot object at 0x7f0bba16ec88>,\n",
       "        <matplotlib.axes._subplots.AxesSubplot object at 0x7f0bba120358>,\n",
       "        <matplotlib.axes._subplots.AxesSubplot object at 0x7f0bba0c89e8>,\n",
       "        <matplotlib.axes._subplots.AxesSubplot object at 0x7f0bba0f90b8>,\n",
       "        <matplotlib.axes._subplots.AxesSubplot object at 0x7f0bba0a0748>,\n",
       "        <matplotlib.axes._subplots.AxesSubplot object at 0x7f0bba047dd8>,\n",
       "        <matplotlib.axes._subplots.AxesSubplot object at 0x7f0bba0784a8>,\n",
       "        <matplotlib.axes._subplots.AxesSubplot object at 0x7f0bba021b38>,\n",
       "        <matplotlib.axes._subplots.AxesSubplot object at 0x7f0bb9fd1208>],\n",
       "       [<matplotlib.axes._subplots.AxesSubplot object at 0x7f0bb9ff8898>,\n",
       "        <matplotlib.axes._subplots.AxesSubplot object at 0x7f0bb9fa1f28>,\n",
       "        <matplotlib.axes._subplots.AxesSubplot object at 0x7f0bb9f525f8>,\n",
       "        <matplotlib.axes._subplots.AxesSubplot object at 0x7f0bb9f77c88>,\n",
       "        <matplotlib.axes._subplots.AxesSubplot object at 0x7f0bb9f2a358>,\n",
       "        <matplotlib.axes._subplots.AxesSubplot object at 0x7f0bb9ed29e8>,\n",
       "        <matplotlib.axes._subplots.AxesSubplot object at 0x7f0bb9f040b8>,\n",
       "        <matplotlib.axes._subplots.AxesSubplot object at 0x7f0bb9ead748>,\n",
       "        <matplotlib.axes._subplots.AxesSubplot object at 0x7f0bb9e55dd8>,\n",
       "        <matplotlib.axes._subplots.AxesSubplot object at 0x7f0bb9e854a8>]],\n",
       "      dtype=object)"
      ]
     },
     "execution_count": 5,
     "metadata": {},
     "output_type": "execute_result"
    }
   ],
   "source": [
    "df.hist()"
   ]
  },
  {
   "cell_type": "code",
   "execution_count": null,
   "metadata": {},
   "outputs": [],
   "source": [
    "# Your code here"
   ]
  },
  {
   "cell_type": "code",
   "execution_count": null,
   "metadata": {},
   "outputs": [],
   "source": [
    "# Your code here"
   ]
  },
  {
   "cell_type": "code",
   "execution_count": null,
   "metadata": {},
   "outputs": [],
   "source": [
    "# Your code here"
   ]
  },
  {
   "cell_type": "markdown",
   "metadata": {},
   "source": [
    "If you look at all the histograms, you can tell that a lot of the data are zero-inflated, so most of the variables contain mostly zeros and then some higher values here and there. No normality, but for most machine learning techniques this is not an issue. "
   ]
  },
  {
   "cell_type": "code",
   "execution_count": null,
   "metadata": {},
   "outputs": [],
   "source": [
    "# Your code here"
   ]
  },
  {
   "cell_type": "markdown",
   "metadata": {},
   "source": [
    "Because the data is zero-inflated the boxplots look as shown above. Because there are this many zeroes, most values above zero will seem to be outliers. The safe decision for this data is to not delete any outliers and see what happens. With many 0s, sparse data is available and high values may be super informative. More-over, without having any intuitive meaning for each of the features, we don't know if a value of ~260 is actually an outlier."
   ]
  },
  {
   "cell_type": "code",
   "execution_count": null,
   "metadata": {},
   "outputs": [],
   "source": [
    "# Your code here"
   ]
  },
  {
   "cell_type": "markdown",
   "metadata": {},
   "source": [
    "## Feature engineering and selection with PCA"
   ]
  },
  {
   "cell_type": "markdown",
   "metadata": {},
   "source": [
    "Have a look at the correlation structure of your features using a heatmap."
   ]
  },
  {
   "cell_type": "code",
   "execution_count": 10,
   "metadata": {},
   "outputs": [
    {
     "data": {
      "image/png": "[encoded data removed]",
      "text/plain": [
       "<Figure size 432x288 with 2 Axes>"
      ]
     },
     "metadata": {
      "needs_background": "light"
     },
     "output_type": "display_data"
    }
   ],
   "source": [
    "import seaborn as sns\n",
    "feat = df.loc[:, 'feat_1':'feat_93']\n",
    "\n",
    "sns.heatmap(feat.corr(), center = 0);\n"
   ]
  },
  {
   "cell_type": "markdown",
   "metadata": {},
   "source": [
    "Use PCA to downscale your features. Use PCA to select a number of features in a way that you still keep 80% of your explained variance."
   ]
  },
  {
   "cell_type": "code",
   "execution_count": 12,
   "metadata": {},
   "outputs": [
    {
     "name": "stdout",
     "output_type": "stream",
     "text": [
      "0.7275525005255818\n",
      "0.8886316663902704\n",
      "0.9597653327588903\n",
      "0.8002699377846447\n"
     ]
    }
   ],
   "source": [
    "from sklearn.decomposition import PCA\n",
    "import numpy as np\n",
    "pca_1 = PCA(n_components=20)\n",
    "pca_2 = PCA(n_components=40)\n",
    "pca_3 = PCA(n_components=60)\n",
    "\n",
    "principalComponents = pca_1.fit_transform(feat)\n",
    "principalComponents = pca_2.fit_transform(feat)\n",
    "principalComponents = pca_3.fit_transform(feat)\n",
    "\n",
    "print(np.sum(pca_1.explained_variance_ratio_))\n",
    "print(np.sum(pca_2.explained_variance_ratio_))\n",
    "print(np.sum(pca_3.explained_variance_ratio_))\n",
    "\n",
    "pca = PCA(n_components=27)\n",
    "principalComponents = pca.fit_transform(feat)\n",
    "print(np.sum(pca.explained_variance_ratio_))"
   ]
  },
  {
   "cell_type": "code",
   "execution_count": 14,
   "metadata": {},
   "outputs": [],
   "source": [
    "y = df['target']\n",
    "X = df.loc[:, 'feat_1':'feat_93']"
   ]
  },
  {
   "cell_type": "markdown",
   "metadata": {},
   "source": [
    "## Create a train test split with a test size of 40%"
   ]
  },
  {
   "cell_type": "markdown",
   "metadata": {},
   "source": [
    "This is a relatively big training set. Feel free to make it smaller (down to ~20%), but for an initial run you can try smaller training sets so the computation time is more manageable.\n",
    "\n",
    "For now, simply use the original data and not the principal components. We looked at the PC's first to get a sense of our correlation structure, and to see how we can downsize our data without losing too much information. In what's next, you'll make PCA part of the pipeline!!"
   ]
  },
  {
   "cell_type": "code",
   "execution_count": 15,
   "metadata": {},
   "outputs": [],
   "source": [
    "from sklearn.model_selection import train_test_split\n",
    "X_train, X_test, y_train, y_test = train_test_split(X, y, test_size=0.4, random_state=42)"
   ]
  },
  {
   "cell_type": "code",
   "execution_count": null,
   "metadata": {},
   "outputs": [],
   "source": [
    "# Your code here"
   ]
  },
  {
   "cell_type": "markdown",
   "metadata": {},
   "source": [
    "## Create a baseline model"
   ]
  },
  {
   "cell_type": "markdown",
   "metadata": {},
   "source": [
    "Create your baseline model *in a pipeline setting*. In the pipeline\n",
    "- Your first step will be to scale your features down to the number of features that ensure you keep just 80% of your explained variance (which we saw before)\n",
    "- Your second step will be the building a basic logistic regression model.\n",
    "\n",
    "Make sure to fit the model using the training set, and test the result by obtaining the accuracy using the test set."
   ]
  },
  {
   "cell_type": "code",
   "execution_count": 16,
   "metadata": {},
   "outputs": [],
   "source": [
    "from sklearn.linear_model import LogisticRegression\n",
    "from sklearn.pipeline import Pipeline"
   ]
  },
  {
   "cell_type": "code",
   "execution_count": 17,
   "metadata": {},
   "outputs": [],
   "source": [
    "pipe_lr = Pipeline([('pca', PCA(n_components=27, random_state=123)),\n",
    "         ('clf', LogisticRegression(random_state=123))])"
   ]
  },
  {
   "cell_type": "code",
   "execution_count": 18,
   "metadata": {},
   "outputs": [
    {
     "name": "stderr",
     "output_type": "stream",
     "text": [
      "/opt/conda/envs/learn-env/lib/python3.6/site-packages/sklearn/linear_model/logistic.py:433: FutureWarning: Default solver will be changed to 'lbfgs' in 0.22. Specify a solver to silence this warning.\n",
      "  FutureWarning)\n",
      "/opt/conda/envs/learn-env/lib/python3.6/site-packages/sklearn/linear_model/logistic.py:460: FutureWarning: Default multi_class will be changed to 'auto' in 0.22. Specify the multi_class option to silence this warning.\n",
      "  \"this warning.\", FutureWarning)\n"
     ]
    },
    {
     "name": "stdout",
     "output_type": "stream",
     "text": [
      "0.7171541693600517\n"
     ]
    }
   ],
   "source": [
    "pipe_lr.fit(X_train, y_train)\n",
    "\n",
    "print(pipe_lr.score(X_test, y_test))"
   ]
  },
  {
   "cell_type": "markdown",
   "metadata": {},
   "source": [
    "## Create a pipeline consisting of a linear SVM, a simple Decision Tree and a simple Random Forest Classifier"
   ]
  },
  {
   "cell_type": "markdown",
   "metadata": {},
   "source": [
    "Repeat the above, but now create three different pipelines:\n",
    "- One for a standard linear SCM\n",
    "- One for a default decision tree\n",
    "- One for a RandomForestClassifier"
   ]
  },
  {
   "cell_type": "code",
   "execution_count": null,
   "metadata": {},
   "outputs": [
    {
     "name": "stdout",
     "output_type": "stream",
     "text": [
      "Pipeline(memory=None,\n",
      "     steps=[('pca', PCA(copy=True, iterated_power='auto', n_components=27, random_state=123,\n",
      "  svd_solver='auto', tol=0.0, whiten=False)), ('clf', SVC(C=1.0, cache_size=200, class_weight=None, coef0=0.0,\n",
      "  decision_function_shape='ovr', degree=3, gamma='auto_deprecated',\n",
      "  kernel='rbf', max_iter=-1, probability=False, random_state=123,\n",
      "  shrinking=True, tol=0.001, verbose=False))])\n"
     ]
    },
    {
     "name": "stderr",
     "output_type": "stream",
     "text": [
      "/opt/conda/envs/learn-env/lib/python3.6/site-packages/sklearn/svm/base.py:196: FutureWarning: The default value of gamma will change from 'auto' to 'scale' in version 0.22 to account better for unscaled features. Set gamma explicitly to 'auto' or 'scale' to avoid this warning.\n",
      "  \"avoid this warning.\", FutureWarning)\n"
     ]
    }
   ],
   "source": [
    "from sklearn import svm\n",
    "from sklearn.pipeline import Pipeline\n",
    "from sklearn.ensemble import RandomForestClassifier\n",
    "from sklearn import tree\n",
    "\n",
    "pipe_svm = Pipeline([('pca', PCA(n_components=27, random_state=123)),\n",
    "         ('clf', svm.SVC(random_state=123))])\n",
    "\n",
    "pipe_tree = Pipeline([('pca', PCA(n_components=27, random_state=123)),\n",
    "         ('clf', tree.DecisionTreeClassifier(random_state=123))])\n",
    "\n",
    "pipe_rf = Pipeline([('pca', PCA(n_components=27, random_state=123)),\n",
    "         ('clf', RandomForestClassifier(random_state=123))])\n",
    "\n",
    "# List of pipelines, List of pipeline names\n",
    "pipelines = [pipe_svm, pipe_tree, pipe_rf]\n",
    "pipeline_names = ['Support Vector Machine','Decision Tree','Random Forest']\n",
    "\n",
    "# Loop to fit each of the three pipelines\n",
    "for pipe in pipelines:\n",
    "    print(pipe)\n",
    "    pipe.fit(X_train, y_train)\n",
    "\n",
    "# Compare accuracies\n",
    "for index, val in enumerate(pipelines):\n",
    "    print('%s pipeline test accuracy: %.3f' % (pipeline_names[index], val.score(X_test, y_test)))"
   ]
  },
  {
   "cell_type": "markdown",
   "metadata": {},
   "source": [
    "## Pipeline with grid search"
   ]
  },
  {
   "cell_type": "markdown",
   "metadata": {},
   "source": [
    "Construct 3 pipelines with grid search\n",
    "- one for support vector machines - make sure your grid isn't too big. You'll see it takes quite a while to fit SVMs with non-linear kernel functions!\n",
    "- one for random forests - try to have around 40 different models\n",
    "- one for the adaboost algorithm. "
   ]
  },
  {
   "cell_type": "markdown",
   "metadata": {},
   "source": [
    "### SVM pipeline with grid search"
   ]
  },
  {
   "cell_type": "code",
   "execution_count": null,
   "metadata": {},
   "outputs": [],
   "source": [
    "# Your code here"
   ]
  },
  {
   "cell_type": "code",
   "execution_count": null,
   "metadata": {},
   "outputs": [],
   "source": [
    "# Your code here"
   ]
  },
  {
   "cell_type": "markdown",
   "metadata": {},
   "source": [
    "Use your grid search object along with `.cv_results` to get the full result overview"
   ]
  },
  {
   "cell_type": "code",
   "execution_count": null,
   "metadata": {},
   "outputs": [],
   "source": [
    "# Your code here"
   ]
  },
  {
   "cell_type": "markdown",
   "metadata": {},
   "source": [
    "### Random Forest pipeline with grid search"
   ]
  },
  {
   "cell_type": "code",
   "execution_count": null,
   "metadata": {},
   "outputs": [],
   "source": [
    "# Your code here"
   ]
  },
  {
   "cell_type": "code",
   "execution_count": null,
   "metadata": {},
   "outputs": [],
   "source": [
    "# Your code here"
   ]
  },
  {
   "cell_type": "markdown",
   "metadata": {},
   "source": [
    "## Adaboost"
   ]
  },
  {
   "cell_type": "code",
   "execution_count": null,
   "metadata": {},
   "outputs": [],
   "source": [
    "# Your code here"
   ]
  },
  {
   "cell_type": "markdown",
   "metadata": {},
   "source": [
    "## Note\n",
    "\n",
    "Note that this solution is only one of many options. The results in the Random Forest and Adaboost models show that there is a lot of improvement possible tuning the hyperparameters further, so make sure to explore this yourself!"
   ]
  },
  {
   "cell_type": "markdown",
   "metadata": {},
   "source": [
    "## Summary \n",
    "\n",
    "Great! You now got a lot of practice in. What algorithm would you choose and why?"
   ]
  }
 ],
 "metadata": {
  "kernelspec": {
   "display_name": "Python 3",
   "language": "python",
   "name": "python3"
  },
  "language_info": {
   "codemirror_mode": {
    "name": "ipython",
    "version": 3
   },
   "file_extension": ".py",
   "mimetype": "text/x-python",
   "name": "python",
   "nbconvert_exporter": "python",
   "pygments_lexer": "ipython3",
   "version": "3.6.6"
  }
 },
 "nbformat": 4,
 "nbformat_minor": 2
}
